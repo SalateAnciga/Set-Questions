{
 "cells": [
  {
   "cell_type": "code",
   "execution_count": null,
   "id": "698b8c70-21cb-4d11-8113-37de14d110c0",
   "metadata": {},
   "outputs": [],
   "source": [
    "#1.Find the error in the following Python code:\n",
    "for i in range(5)\n",
    "    print(i)\n",
    "    "
   ]
  },
  {
   "cell_type": "code",
   "execution_count": 8,
   "id": "8e02775a",
   "metadata": {},
   "outputs": [
    {
     "name": "stdout",
     "output_type": "stream",
     "text": [
      "0\n",
      "1\n",
      "2\n",
      "3\n",
      "4\n"
     ]
    }
   ],
   "source": [
    "for i in range(5):\n",
    "    print(i)\n",
    "#ANS:Identiation Error & Colon missing    "
   ]
  },
  {
   "cell_type": "code",
   "execution_count": null,
   "id": "cbe39d0b-ce31-4e31-859c-0b0637578251",
   "metadata": {},
   "outputs": [],
   "source": [
    "#2.What will be the output of this code?\n",
    "a = 10\n",
    "b = \"5\"\n",
    "print(a + b)\n",
    "#Ans: Cannot concatenate a  integer with an string"
   ]
  },
  {
   "cell_type": "code",
   "execution_count": 4,
   "id": "df3cee51",
   "metadata": {},
   "outputs": [
    {
     "name": "stdout",
     "output_type": "stream",
     "text": [
      "15\n"
     ]
    }
   ],
   "source": [
    "a = 10\n",
    "b = 5\n",
    "print(a + b)\n"
   ]
  },
  {
   "cell_type": "code",
   "execution_count": null,
   "id": "7a3c9ddd-7696-4885-acfb-f75602347302",
   "metadata": {},
   "outputs": [],
   "source": [
    "#3.What is the issue in this Python snippet?\n",
    "\n",
    " def add_numbers(a, b)\n",
    "    return a + b\n"
   ]
  },
  {
   "cell_type": "code",
   "execution_count": 7,
   "id": "15c2e7b2",
   "metadata": {},
   "outputs": [
    {
     "data": {
      "text/plain": [
       "5"
      ]
     },
     "execution_count": 7,
     "metadata": {},
     "output_type": "execute_result"
    }
   ],
   "source": [
    "def add_numbers(a,b):\n",
    "    return  a + b\n",
    "add_numbers(3,2)    \n",
    "#ANS:Identiation Error & Colon missing  "
   ]
  },
  {
   "cell_type": "code",
   "execution_count": null,
   "id": "7e4def5f-57d7-4744-bef1-3a7e2bafa744",
   "metadata": {},
   "outputs": [],
   "source": [
    "#4.Identify the bug in the following Python code:\n",
    "\n",
    " numbers = [1, 2, 3, 4]\n",
    "print(numbers[4])\n"
   ]
  },
  {
   "cell_type": "code",
   "execution_count": 12,
   "id": "2f8e5efd",
   "metadata": {},
   "outputs": [
    {
     "name": "stdout",
     "output_type": "stream",
     "text": [
      "[1, 2, 3, 4]\n"
     ]
    }
   ],
   "source": [
    "numbers = [1, 2, 3, 4]\n",
    "print(numbers)\n"
   ]
  },
  {
   "cell_type": "code",
   "execution_count": null,
   "id": "ad6f5dc0-b572-4e2c-a970-f932e941034d",
   "metadata": {},
   "outputs": [],
   "source": [
    "#5.Find the error in the following Python code:\n",
    "print \"Hello, World!\""
   ]
  },
  {
   "cell_type": "code",
   "execution_count": 13,
   "id": "bc0080c1",
   "metadata": {},
   "outputs": [
    {
     "name": "stdout",
     "output_type": "stream",
     "text": [
      "Hello, World!\n"
     ]
    }
   ],
   "source": [
    "print(\"Hello, World!\")"
   ]
  },
  {
   "cell_type": "code",
   "execution_count": null,
   "id": "765ffb4f-4ff4-4652-852c-72b7d94eb1ea",
   "metadata": {},
   "outputs": [],
   "source": [
    "#6.Find the error in the following Python code:\n",
    "x = 5 / 0\n"
   ]
  },
  {
   "cell_type": "code",
   "execution_count": 31,
   "id": "5b449ecb",
   "metadata": {},
   "outputs": [],
   "source": [
    "x = 5 / 1\n",
    "#ANS:Division by Zero error"
   ]
  },
  {
   "cell_type": "code",
   "execution_count": null,
   "id": "0d49005f-3b79-467d-b9a2-2e33ec108979",
   "metadata": {},
   "outputs": [],
   "source": [
    "#7.Find the error in the following Python code:name = \"Alice\"\n",
    "age = 25\n",
    "print(\"Name: \" + name + \", Age: \" + age)\n"
   ]
  },
  {
   "cell_type": "code",
   "execution_count": 6,
   "id": "79260565",
   "metadata": {},
   "outputs": [
    {
     "name": "stdout",
     "output_type": "stream",
     "text": [
      "Name: Alice, Age: 25\n"
     ]
    }
   ],
   "source": [
    "name = \"Alice\"\n",
    "age = \"25\"\n",
    "print(\"Name: \" + name + \", Age: \" + str(age))\n",
    "#Ans:Cannot concatenate a string with an integer."
   ]
  },
  {
   "cell_type": "code",
   "execution_count": null,
   "id": "092f3dda-3896-4695-a1aa-6b766869039a",
   "metadata": {},
   "outputs": [],
   "source": [
    "#8.Find the error\n",
    "for i in range(1, 10, -1):\n",
    "    print(i)\n"
   ]
  },
  {
   "cell_type": "code",
   "execution_count": 9,
   "id": "3e4b6f3b",
   "metadata": {},
   "outputs": [
    {
     "name": "stdout",
     "output_type": "stream",
     "text": [
      "1\n",
      "2\n",
      "3\n",
      "4\n",
      "5\n",
      "6\n",
      "7\n",
      "8\n",
      "9\n"
     ]
    }
   ],
   "source": [
    "for i in range(1, 10, 1):\n",
    "    print(i)\n",
    "#ANS:default increment value is 1 not -1.otherwise we can put 2 or anynumber based on our loop"
   ]
  },
  {
   "cell_type": "code",
   "execution_count": null,
   "id": "eda81fd2-61a1-435d-bd6b-b1bba63c7904",
   "metadata": {},
   "outputs": [],
   "source": [
    "#9. Find the error in the following Python code:\n",
    "x = 10\n",
    "if x = 5:\n",
    "    print(\"x is 5\")\n"
   ]
  },
  {
   "cell_type": "code",
   "execution_count": 4,
   "id": "95976c4d",
   "metadata": {},
   "outputs": [
    {
     "name": "stdout",
     "output_type": "stream",
     "text": [
      "x is not 5\n"
     ]
    }
   ],
   "source": [
    "x = 10\n",
    "if(x == 5):\n",
    "    print(\"x is 5\")\n",
    "else:\n",
    "    print(\"x is not 5\")\n",
    "#ANS:When we use if condition we should use == ie comparision operator \n",
    "#Colon is missing"
   ]
  },
  {
   "cell_type": "code",
   "execution_count": null,
   "id": "e2730045-f8c7-4b58-ae5f-bbfbe6d51a31",
   "metadata": {},
   "outputs": [],
   "source": [
    "#10. Identify the error in the following function definition:\n",
    "def greet(name)\n",
    "    print(\"Hello, \" + name)\n",
    "\n"
   ]
  },
  {
   "cell_type": "code",
   "execution_count": 8,
   "id": "317eca50",
   "metadata": {},
   "outputs": [
    {
     "name": "stdout",
     "output_type": "stream",
     "text": [
      "Hello,sara\n"
     ]
    }
   ],
   "source": [
    "def greet(name):\n",
    "    print(\"Hello,\"+name)\n",
    "greet(\"sara\")    \n",
    "    \n",
    "#ANS:Colon Missing"
   ]
  },
  {
   "cell_type": "code",
   "execution_count": null,
   "id": "90ca1183-b6c0-4836-b4fe-bc2880e046ae",
   "metadata": {},
   "outputs": [],
   "source": []
  }
 ],
 "metadata": {
  "kernelspec": {
   "display_name": "Python 3 (ipykernel)",
   "language": "python",
   "name": "python3"
  },
  "language_info": {
   "codemirror_mode": {
    "name": "ipython",
    "version": 3
   },
   "file_extension": ".py",
   "mimetype": "text/x-python",
   "name": "python",
   "nbconvert_exporter": "python",
   "pygments_lexer": "ipython3",
   "version": "3.12.4"
  }
 },
 "nbformat": 4,
 "nbformat_minor": 5
}
