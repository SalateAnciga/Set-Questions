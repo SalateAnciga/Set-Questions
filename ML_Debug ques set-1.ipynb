{
 "cells": [
  {
   "cell_type": "code",
   "execution_count": 4,
   "id": "163c380c",
   "metadata": {},
   "outputs": [
    {
     "name": "stdout",
     "output_type": "stream",
     "text": [
      "   Feature1  Feature2\n",
      "0        10       5.5\n",
      "1        20       6.7\n",
      "2        30       8.9\n"
     ]
    }
   ],
   "source": [
    "#1.Debug the given code\n",
    "import pandas as pd\n",
    "\n",
    "data = {'Feature1': ['10', '20', 'Thirty'],  # 'Thirty' is not a valid number\n",
    "        'Feature2': [5.5, 6.7, 8.9]}\n",
    "\n",
    "df = pd.DataFrame(data)\n",
    "df['Feature1'] = df['Feature1'].astype(int)  # Error: Cannot convert 'Thirty' to int\n",
    "\n",
    "print(df)\n",
    "\n"
   ]
  },
  {
   "cell_type": "code",
   "execution_count": 7,
   "id": "6f9c6380-5c36-470e-ad0b-a8c07c8c1523",
   "metadata": {},
   "outputs": [
    {
     "name": "stdout",
     "output_type": "stream",
     "text": [
      "   Feature1  Feature2\n",
      "0      10.0       5.5\n",
      "1      20.0       6.7\n",
      "2       NaN       8.9\n"
     ]
    }
   ],
   "source": [
    "#ANS:\n",
    "import pandas as pd\n",
    "data = {'Feature1': ['10', '20', 'Thirty'], \n",
    "        'Feature2': [5.5, 6.7, 8.9]} \n",
    "df = pd.DataFrame(data)\n",
    "df['Feature1'] = pd.to_numeric(df['Feature1'], errors='coerce')\n",
    "#errores=coerce means ,convert any invaild or unconvertible value into Nan value instead of raising  error.\n",
    "#to_numeric function is used to convert data in to  numeric value\n",
    "print(df)\n"
   ]
  },
  {
   "cell_type": "code",
   "execution_count": 10,
   "id": "75ed407d",
   "metadata": {},
   "outputs": [
    {
     "name": "stdout",
     "output_type": "stream",
     "text": [
      "     A    B\n",
      "0  1.0  4.0\n",
      "1  2.0  NaN\n",
      "2  NaN  6.0\n"
     ]
    }
   ],
   "source": [
    "#2.\n",
    "import pandas as pd\n",
    "\n",
    "data = {'A': [1, 2, None],  # Missing value\n",
    "        'B': [4, None, 6]}  # Missing value\n",
    "\n",
    "df = pd.DataFrame(data)\n",
    "mean_value = df.mean()\n",
    "df.fillna(mean_value) # Error: fillna() does not modify in place\n",
    "\n",
    "print(df)\n"
   ]
  },
  {
   "cell_type": "code",
   "execution_count": 11,
   "id": "35f34dbd-0998-4891-a098-0e36047b3d06",
   "metadata": {},
   "outputs": [
    {
     "name": "stdout",
     "output_type": "stream",
     "text": [
      "     A    B\n",
      "0  1.0  4.0\n",
      "1  2.0  5.0\n",
      "2  1.5  6.0\n"
     ]
    }
   ],
   "source": [
    "#ANS:\n",
    "data = {'A': [1, 2, None],  \n",
    "        'B': [4, None, 6]}\n",
    "\n",
    "df = pd.DataFrame(data)\n",
    "mean_value = df.mean()\n",
    "df.fillna(mean_value,inplace=True) \n",
    "#inplace=True means make the changes directly in existing dataframe\n",
    "print(df)\n"
   ]
  },
  {
   "cell_type": "code",
   "execution_count": null,
   "id": "e33d6194-f9b8-4e00-83d8-022b1383ba8a",
   "metadata": {},
   "outputs": [],
   "source": [
    "#3.from sklearn.linear_model import LinearRegression\n",
    "import numpy as np\n",
    "X = np.array([1, 2, 3, 4, 5])# Error: X should be 2D\n",
    "y = np.array([2, 4, 6, 8, 10])\n",
    "\n",
    "model = LinearRegression()\n",
    "model.fit(X, y)\n"
   ]
  },
  {
   "cell_type": "code",
   "execution_count": 6,
   "id": "41a1128f-9665-4731-8953-c03f3ecdd2d3",
   "metadata": {},
   "outputs": [
    {
     "name": "stdout",
     "output_type": "stream",
     "text": [
      "[16.]\n"
     ]
    }
   ],
   "source": [
    "#ANS:\n",
    "from sklearn.linear_model import LinearRegression\n",
    "import numpy as np\n",
    "X = np.array([1, 2, 3, 4, 5])\n",
    "X=X.reshape(-1,1)\n",
    "#reshape(-1,1) convert 1D into 2D array.(-1,1) represent no of rows & Columns \n",
    "y = np.array([2, 4, 6, 8, 10])\n",
    "model = LinearRegression()\n",
    "model.fit(X, y)\n",
    "print(model.predict([[8]]))  # Predict for new value\n",
    "\n"
   ]
  },
  {
   "cell_type": "code",
   "execution_count": 5,
   "id": "b60f10de",
   "metadata": {},
   "outputs": [
    {
     "name": "stdout",
     "output_type": "stream",
     "text": [
      "[[-1. -1. -1.]\n",
      " [ 1.  1.  1.]]\n"
     ]
    }
   ],
   "source": [
    "#4.\n",
    "from sklearn.preprocessing import StandardScaler\n",
    "import numpy as np\n",
    "\n",
    "data = np.array([10, 20, 30, 40, 50])  # Error: Should be 2D\n",
    "scaler = StandardScaler()\n",
    "scaled_data = scaler.fit_transform(data)\n",
    "\n",
    "print(scaled_data)\n"
   ]
  },
  {
   "cell_type": "code",
   "execution_count": 7,
   "id": "ffcf5ca6-a9e1-454a-945d-ffe5d1ae71f6",
   "metadata": {},
   "outputs": [
    {
     "name": "stdout",
     "output_type": "stream",
     "text": [
      "[[-1.41421356]\n",
      " [-0.70710678]\n",
      " [ 0.        ]\n",
      " [ 0.70710678]\n",
      " [ 1.41421356]]\n"
     ]
    }
   ],
   "source": [
    "#ANS:\n",
    "from sklearn.preprocessing import StandardScaler\n",
    "import numpy as np\n",
    "data = np.array([10, 20, 30, 40, 50]) \n",
    "#data = np.array([[10], [20], [30],[30], [40], [50]])  \n",
    "data=data.reshape(-1,1)#Reshape the data\n",
    "scaler = StandardScaler()\n",
    "scaled_data = scaler.fit_transform(data)\n",
    "print(scaled_data)\n"
   ]
  },
  {
   "cell_type": "code",
   "execution_count": null,
   "id": "da46280a",
   "metadata": {},
   "outputs": [],
   "source": [
    "#5.\n",
    "from sklearn.linear_model import LogisticRegression\n",
    "\n",
    "X = [[1, 2], [3, 4], [5, 6]]\n",
    "y = ['yes', 'no', 'yes']  # Error: Labels should be numeric\n",
    "\n",
    "model = LogisticRegression()\n",
    "model.fit(X, y)\n"
   ]
  },
  {
   "cell_type": "code",
   "execution_count": 9,
   "id": "ab7cef74-101f-4abb-a2cd-dde510bc3b84",
   "metadata": {},
   "outputs": [
    {
     "name": "stdout",
     "output_type": "stream",
     "text": [
      "[1]\n"
     ]
    }
   ],
   "source": [
    "#ANS:\n",
    "from sklearn.linear_model import LogisticRegression\n",
    "from sklearn.preprocessing import LabelEncoder\n",
    "X = [[1, 2], [3, 4], [5, 6]]\n",
    "y = ['yes', 'no', 'yes']\n",
    "encoder=LabelEncoder()#It convert categorial data into numercial\n",
    "new_y=encoder.fit_transform(y)\n",
    "model = LogisticRegression()\n",
    "model.fit(X, new_y)\n",
    "print(model.predict([[4, 5]]))"
   ]
  },
  {
   "cell_type": "code",
   "execution_count": null,
   "id": "656e0582-4f22-4b35-9e62-0b86f3924f1f",
   "metadata": {},
   "outputs": [],
   "source": [
    "#6\n",
    "import pandas as pd\n",
    "from sklearn.preprocessing import OneHotEncoder\n",
    "\n",
    "df = pd.DataFrame({'Category': ['A', 'B', 'C', 'A']})\n",
    "\n",
    "encoder = OneHotEncoder()\n",
    "encoded = encoder.fit_transform(df['Category'])  # Error: Data should be reshaped\n",
    "print(encoded)\n"
   ]
  },
  {
   "cell_type": "code",
   "execution_count": 14,
   "id": "0e5002b1-d71b-44cd-b5c8-84e263b77439",
   "metadata": {},
   "outputs": [
    {
     "name": "stdout",
     "output_type": "stream",
     "text": [
      "[[1. 0. 0.]\n",
      " [0. 1. 0.]\n",
      " [0. 0. 1.]\n",
      " [1. 0. 0.]]\n"
     ]
    }
   ],
   "source": [
    "#ANS:\n",
    "import pandas as pd\n",
    "from sklearn.preprocessing import OneHotEncoder\n",
    "df = pd.DataFrame({'Category': ['A', 'B', 'C', 'A']})\n",
    "encoder = OneHotEncoder()\n",
    "encoded = encoder.fit_transform(df[[\"Category\"]]) # Convert to 2D\n",
    "print(encoded.toarray())#toarray() convert sprase matrix(it store only non zero values so sane lot of memory) into normal Numpy array\n"
   ]
  },
  {
   "cell_type": "code",
   "execution_count": null,
   "id": "e4e1665b",
   "metadata": {},
   "outputs": [],
   "source": [
    "#7\n",
    "from sklearn.model_selection import train_test_split\n",
    "\n",
    "X = [[1, 2], [3, 4], [5, 6], [7, 8]]\n",
    "y = [0, 1, 0]\n",
    "\n",
    "X_train, X_test, y_train, y_test = train_test_split(X, y, test_size=0.2)\n"
   ]
  },
  {
   "cell_type": "code",
   "execution_count": 29,
   "id": "924c26eb-f344-404b-8dcd-7719828e1be7",
   "metadata": {},
   "outputs": [],
   "source": [
    "ANS:\n",
    "from sklearn.model_selection import train_test_split\n",
    "\n",
    "X = [[1, 2], [3, 4], [5, 6], [7, 8]]\n",
    "y = [0, 1, 0,0]\n",
    "\n",
    "X_train, X_test, y_train, y_test = train_test_split(X, y, test_size=0.2)\n"
   ]
  },
  {
   "cell_type": "code",
   "execution_count": null,
   "id": "6f9a8ec4",
   "metadata": {},
   "outputs": [],
   "source": [
    "#8.from sklearn.linear_model import LogisticRegression\n",
    "\n",
    "X_train = [[1, 2], [3, 4], [5, 6]]\n",
    "y_train = [\"yes\", \"no\", \"yes\"]  # Error: LogisticRegression expects numerical labels\n",
    "\n",
    "model = LogisticRegression()\n",
    "model.fit(X_train, y_train)\n"
   ]
  },
  {
   "cell_type": "code",
   "execution_count": 17,
   "id": "2b2b52c2-1e74-46b3-98a0-b098e57d5c78",
   "metadata": {},
   "outputs": [
    {
     "name": "stdout",
     "output_type": "stream",
     "text": [
      "[0]\n"
     ]
    }
   ],
   "source": [
    "#ANS:\n",
    "from sklearn.linear_model import LogisticRegression\n",
    "\n",
    "X_train = [[1, 2], [3, 4], [5, 6]]\n",
    "y_train = [0, 1, 0]  # Convert labels to numeric\n",
    "\n",
    "model = LogisticRegression()\n",
    "model.fit(X_train, y_train)\n",
    "print(model.predict([[2, 3]]))\n"
   ]
  },
  {
   "cell_type": "code",
   "execution_count": null,
   "id": "ee13984b",
   "metadata": {},
   "outputs": [],
   "source": [
    "#9\n",
    "import numpy as np\n",
    "import pandas as pd\n",
    "from sklearn.linear_model import LinearRegression\n",
    "\n",
    "# Creating a dataset with missing values\n",
    "X_train = np.array([[1, 2], [3, np.nan], [5, 6]])\n",
    "y_train = np.array([10, 20, 30])\n",
    "\n",
    "model = LinearRegression()\n",
    "model.fit(X_train, y_train)  \n"
   ]
  },
  {
   "cell_type": "code",
   "execution_count": 4,
   "id": "e729137a-38b0-4eae-96d5-53854d5122ae",
   "metadata": {},
   "outputs": [
    {
     "name": "stdout",
     "output_type": "stream",
     "text": [
      "Predicted Output: [20.]\n"
     ]
    }
   ],
   "source": [
    "#ANS:\n",
    "import numpy as np\n",
    "import pandas as pd\n",
    "from sklearn.linear_model import LinearRegression\n",
    "from sklearn.impute import SimpleImputer\n",
    "\n",
    "# Creating a dataset with missing values\n",
    "X_train = np.array([[1, 2], [3, np.nan], [5, 6]])\n",
    "y_train = np.array([10, 20, 30])\n",
    "# Handling missing values by replacing NaN with the column mean\n",
    "#SimpleImputer fills the missingvalues automatically using meam,median\n",
    "impute=SimpleImputer(strategy=\"mean\")\n",
    "x_train_impute=impute.fit_transform(X_train)\n",
    "# Train the model\n",
    "model = LinearRegression()\n",
    "model.fit(x_train_impute,y_train)\n",
    "#Make prediction\n",
    "result=model.predict([[3,4]])\n",
    "print(\"Predicted Output:\",result)\n"
   ]
  },
  {
   "cell_type": "code",
   "execution_count": null,
   "id": "bda00c3f-93d4-45e0-9561-b0881bde6ee9",
   "metadata": {},
   "outputs": [],
   "source": [
    "#10.\n",
    "from sklearn.tree import DecisionTreeClassifier\n",
    "X_train = [[1, 2], [3, 4], [5, 6]]\n",
    "y_train =[[\"spam\"], [\"ham\"],[\"spam\"]]  # Error: String labels not allowed\n",
    "\n",
    "model = DecisionTreeClassifier()\n",
    "model.fit(X_train, y_train)\n"
   ]
  },
  {
   "cell_type": "code",
   "execution_count": 9,
   "id": "6e15be2c-1ad2-48ca-bf88-41d22fae8833",
   "metadata": {},
   "outputs": [
    {
     "name": "stdout",
     "output_type": "stream",
     "text": [
      "[[0. 1.]]\n"
     ]
    }
   ],
   "source": [
    "#ANS:\n",
    "from sklearn.tree import DecisionTreeClassifier\n",
    "from sklearn.preprocessing import OneHotEncoder\n",
    "import numpy as np\n",
    "X_train = [[1, 2], [3, 4], [5, 6]]\n",
    "y_train =[[\"spam\"], [\"ham\"],[\"spam\"]]  \n",
    "#Convert categorial data into numercial\n",
    "onehot=OneHotEncoder() \n",
    "y_train_one=onehot.fit_transform(y_train)\n",
    "model = DecisionTreeClassifier()\n",
    "y_trainarr=y_train_one.toarray()\n",
    "#Train the model\n",
    "model.fit(X_train,y_trainarr)\n",
    "print(model.predict([[1, 2]]))\n"
   ]
  },
  {
   "cell_type": "code",
   "execution_count": null,
   "id": "4057ff6d",
   "metadata": {},
   "outputs": [],
   "source": [
    "#11.\n",
    "from sklearn.svm import SVC\n",
    "\n",
    "X_train = [[1, 100], [2, 200], [3, 300]]\n",
    "y_train = [0, 1, 0]\n",
    "\n",
    "model = SVC()\n",
    "model.fit(X_train, y_train)\n",
    "print(model.predict([[1, 150]]))  # Unreliable output due to large-scale difference\n"
   ]
  },
  {
   "cell_type": "code",
   "execution_count": 10,
   "id": "045c1234",
   "metadata": {},
   "outputs": [
    {
     "name": "stdout",
     "output_type": "stream",
     "text": [
      "[0]\n"
     ]
    }
   ],
   "source": [
    "#ANS:\n",
    "from sklearn.svm import SVC\n",
    "from sklearn.preprocessing import  StandardScaler\n",
    "scaler = StandardScaler()\n",
    "#The training input have different range so it will give poorly predictions.To overcome these problems we use preprocessing concepts (ie)standardization \n",
    "X_train = [[1, 100], [2, 200], [3, 300]]\n",
    "x_train=scaler.fit_transform(X_train)\n",
    "y_train = [0, 1, 0]\n",
    "\n",
    "model = SVC()\n",
    "model.fit(x_train, y_train)\n",
    "X_test_scaled = scaler.transform([[1, 150]])  # More reliable output\n",
    "print(model.predict(X_test_scaled))\n"
   ]
  },
  {
   "cell_type": "code",
   "execution_count": null,
   "id": "8a81a2d5-1dc7-447b-85cf-90928dba8cda",
   "metadata": {},
   "outputs": [],
   "source": []
  }
 ],
 "metadata": {
  "kernelspec": {
   "display_name": "Python 3 (ipykernel)",
   "language": "python",
   "name": "python3"
  },
  "language_info": {
   "codemirror_mode": {
    "name": "ipython",
    "version": 3
   },
   "file_extension": ".py",
   "mimetype": "text/x-python",
   "name": "python",
   "nbconvert_exporter": "python",
   "pygments_lexer": "ipython3",
   "version": "3.12.4"
  }
 },
 "nbformat": 4,
 "nbformat_minor": 5
}
