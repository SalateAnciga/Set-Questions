{
 "cells": [
  {
   "cell_type": "code",
   "execution_count": 2,
   "id": "5fd5c475",
   "metadata": {},
   "outputs": [],
   "source": [
    "1.Write a Python program that prints numbers from 1 to 5.\n",
    "Expected Output:\n",
    "1 2 3 4 5"
   ]
  },
  {
   "cell_type": "code",
   "execution_count": 4,
   "id": "979d9db8-3d90-4ed4-841e-151f89559e63",
   "metadata": {},
   "outputs": [
    {
     "name": "stdout",
     "output_type": "stream",
     "text": [
      "1\n",
      "2\n",
      "3\n",
      "4\n",
      "5\n"
     ]
    }
   ],
   "source": [
    "for num in range(1,6,1):\n",
    "    print(num)"
   ]
  },
  {
   "cell_type": "code",
   "execution_count": null,
   "id": "3c8bc472",
   "metadata": {},
   "outputs": [],
   "source": [
    "2.Write a Python program to print the first 5 even numbers. Expected Output:\n",
    "2 4 6 8 10"
   ]
  },
  {
   "cell_type": "code",
   "execution_count": 5,
   "id": "faba5d7c-fe7b-43fa-9f89-54fca2349cda",
   "metadata": {},
   "outputs": [
    {
     "name": "stdout",
     "output_type": "stream",
     "text": [
      "2\n",
      "4\n",
      "6\n",
      "8\n",
      "10\n"
     ]
    }
   ],
   "source": [
    "for num in range(2,11,2):\n",
    "    print(num)"
   ]
  },
  {
   "cell_type": "code",
   "execution_count": null,
   "id": "5e7af211",
   "metadata": {},
   "outputs": [],
   "source": [
    "3.Write a Python program to print the sum of numbers from 1 to 10. \n",
    "Expected Output:55"
   ]
  },
  {
   "cell_type": "code",
   "execution_count": 13,
   "id": "5906deca-e357-4b29-a977-c891499f8f3d",
   "metadata": {},
   "outputs": [
    {
     "name": "stdout",
     "output_type": "stream",
     "text": [
      "Sum of numbers from 0 to 10\n"
     ]
    },
    {
     "name": "stdin",
     "output_type": "stream",
     "text": [
      "Enter the value of num: 10\n"
     ]
    },
    {
     "name": "stdout",
     "output_type": "stream",
     "text": [
      "SUM: 55.0\n"
     ]
    }
   ],
   "source": [
    "print(\"Sum of numbers from 0 to 10\")\n",
    "Num=int(input(\"Enter the value of num:\"))\n",
    "Total=(Num*(Num+1))/2\n",
    "print(\"SUM:\",Total)"
   ]
  },
  {
   "cell_type": "code",
   "execution_count": null,
   "id": "ac09aa1a",
   "metadata": {},
   "outputs": [],
   "source": [
    "4.Write a Python function to find the factorial of 5. Expected Output:\n",
    "120"
   ]
  },
  {
   "cell_type": "code",
   "execution_count": 16,
   "id": "e5a13982-267d-4aac-95f7-72f961433adc",
   "metadata": {},
   "outputs": [
    {
     "name": "stdout",
     "output_type": "stream",
     "text": [
      "Factorial of 5 is: 120\n"
     ]
    },
    {
     "name": "stderr",
     "output_type": "stream",
     "text": [
      "C:\\Users\\jegat\\AppData\\Local\\Temp\\ipykernel_8536\\678626319.py:3: DeprecationWarning: `np.math` is a deprecated alias for the standard library `math` module (Deprecated Numpy 1.25). Replace usages of `np.math` with `math`\n",
      "  Factorial=np.math.factorial(n)\n"
     ]
    }
   ],
   "source": [
    "import numpy as np\n",
    "n=5\n",
    "Factorial=np.math.factorial(n)\n",
    "print(\"Factorial of 5 is:\",Factorial) "
   ]
  },
  {
   "cell_type": "code",
   "execution_count": null,
   "id": "8ab9fc8a",
   "metadata": {},
   "outputs": [],
   "source": [
    "5.Write a Python program to check if a number is prime. Expected Output (for input 7):\n",
    "7 is a prime number\n",
    "\n"
   ]
  },
  {
   "cell_type": "code",
   "execution_count": 4,
   "id": "4fd39c55-4607-409c-a4ae-47eeaa64ebff",
   "metadata": {},
   "outputs": [
    {
     "name": "stdout",
     "output_type": "stream",
     "text": [
      "7 is a prime number\n"
     ]
    }
   ],
   "source": [
    "\n",
    "def is_prime(n):\n",
    "    if n < 2:\n",
    "        return False\n",
    "    for i in range(2, int(n ** 0.5) + 1):\n",
    "        if n % i == 0:\n",
    "            return False\n",
    "    return True\n",
    "\n",
    "num = 7\n",
    "if is_prime(num):\n",
    "    print(f\"{num} is a prime number\")\n",
    "else:\n",
    "    print(f\"{num} is not a prime number\")"
   ]
  },
  {
   "cell_type": "code",
   "execution_count": null,
   "id": "1ba5bde0-e852-4047-bca1-05bc7c7a0dbf",
   "metadata": {},
   "outputs": [],
   "source": []
  }
 ],
 "metadata": {
  "kernelspec": {
   "display_name": "Python 3 (ipykernel)",
   "language": "python",
   "name": "python3"
  },
  "language_info": {
   "codemirror_mode": {
    "name": "ipython",
    "version": 3
   },
   "file_extension": ".py",
   "mimetype": "text/x-python",
   "name": "python",
   "nbconvert_exporter": "python",
   "pygments_lexer": "ipython3",
   "version": "3.12.4"
  }
 },
 "nbformat": 4,
 "nbformat_minor": 5
}
