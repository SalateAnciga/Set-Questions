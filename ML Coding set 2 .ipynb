{
 "cells": [
  {
   "cell_type": "code",
   "execution_count": null,
   "id": "dd6e461b",
   "metadata": {},
   "outputs": [],
   "source": [
    "#1.Identify Customers with High Purchase Frequency\n",
    "import pandas as pd\n",
    "\n",
    "data = {'Customer_ID': [101, 102, 103, 101, 104, 102, 101, 105, 102, 103],\n",
    "        'Purchase_Amount': [200, 150, 180, 220, 300, 200, 100, 400, 250, 300]}\n",
    "\n",
    "df = pd.DataFrame(data)\n",
    "\n",
    "\n",
    "Task:\n",
    "Group customers by Customer_ID and count the number of purchases per customer.\n",
    "\n",
    "Identify the top 3 customers with the highest number of purchases.\n",
    "\n",
    "Expected Output:\n",
    "    Customer Purchase Frequency:\n",
    "   Customer_ID  Purchase_Count\n",
    "0         101               3\n",
    "1         102               3\n",
    "2         103               2\n",
    "3         104               1\n",
    "4         105               1\n",
    "\n",
    "Top 3 Frequent Customers:\n",
    "   Customer_ID  Purchase_Count\n",
    "0         101               3\n",
    "1         102               3\n",
    "2         103               2\n"
   ]
  },
  {
   "cell_type": "code",
   "execution_count": 1,
   "id": "e13ded36-35b2-4674-b5d0-3348f4f9c2c0",
   "metadata": {},
   "outputs": [
    {
     "data": {
      "text/html": [
       "<div>\n",
       "<style scoped>\n",
       "    .dataframe tbody tr th:only-of-type {\n",
       "        vertical-align: middle;\n",
       "    }\n",
       "\n",
       "    .dataframe tbody tr th {\n",
       "        vertical-align: top;\n",
       "    }\n",
       "\n",
       "    .dataframe thead th {\n",
       "        text-align: right;\n",
       "    }\n",
       "</style>\n",
       "<table border=\"1\" class=\"dataframe\">\n",
       "  <thead>\n",
       "    <tr style=\"text-align: right;\">\n",
       "      <th></th>\n",
       "      <th>Customer_ID</th>\n",
       "      <th>Purchase_Amount</th>\n",
       "    </tr>\n",
       "  </thead>\n",
       "  <tbody>\n",
       "    <tr>\n",
       "      <th>0</th>\n",
       "      <td>101</td>\n",
       "      <td>200</td>\n",
       "    </tr>\n",
       "    <tr>\n",
       "      <th>1</th>\n",
       "      <td>102</td>\n",
       "      <td>150</td>\n",
       "    </tr>\n",
       "    <tr>\n",
       "      <th>2</th>\n",
       "      <td>103</td>\n",
       "      <td>180</td>\n",
       "    </tr>\n",
       "    <tr>\n",
       "      <th>3</th>\n",
       "      <td>101</td>\n",
       "      <td>220</td>\n",
       "    </tr>\n",
       "    <tr>\n",
       "      <th>4</th>\n",
       "      <td>104</td>\n",
       "      <td>300</td>\n",
       "    </tr>\n",
       "    <tr>\n",
       "      <th>5</th>\n",
       "      <td>102</td>\n",
       "      <td>200</td>\n",
       "    </tr>\n",
       "    <tr>\n",
       "      <th>6</th>\n",
       "      <td>101</td>\n",
       "      <td>100</td>\n",
       "    </tr>\n",
       "    <tr>\n",
       "      <th>7</th>\n",
       "      <td>105</td>\n",
       "      <td>400</td>\n",
       "    </tr>\n",
       "    <tr>\n",
       "      <th>8</th>\n",
       "      <td>102</td>\n",
       "      <td>250</td>\n",
       "    </tr>\n",
       "    <tr>\n",
       "      <th>9</th>\n",
       "      <td>103</td>\n",
       "      <td>300</td>\n",
       "    </tr>\n",
       "  </tbody>\n",
       "</table>\n",
       "</div>"
      ],
      "text/plain": [
       "   Customer_ID  Purchase_Amount\n",
       "0          101              200\n",
       "1          102              150\n",
       "2          103              180\n",
       "3          101              220\n",
       "4          104              300\n",
       "5          102              200\n",
       "6          101              100\n",
       "7          105              400\n",
       "8          102              250\n",
       "9          103              300"
      ]
     },
     "execution_count": 1,
     "metadata": {},
     "output_type": "execute_result"
    }
   ],
   "source": [
    "#ANSWER\n",
    "import pandas as pd\n",
    "\n",
    "# Creating the DataFrame\n",
    "data = {'Customer_ID': [101, 102, 103, 101, 104, 102, 101, 105, 102, 103],\n",
    "        'Purchase_Amount': [200, 150, 180, 220, 300, 200, 100, 400, 250, 300]}\n",
    "\n",
    "df = pd.DataFrame(data)\n",
    "df\n"
   ]
  },
  {
   "cell_type": "code",
   "execution_count": 9,
   "id": "9a1a1ccc-6481-43c8-82c5-626cc8804da9",
   "metadata": {},
   "outputs": [
    {
     "name": "stdout",
     "output_type": "stream",
     "text": [
      "Customer Purchase Frequency:\n",
      "   Customer_ID  Purchase_count\n",
      "0          101               3\n",
      "1          102               3\n",
      "2          103               2\n",
      "3          104               1\n",
      "4          105               1\n"
     ]
    }
   ],
   "source": [
    "#FINDING PURCHASE FREQUENCY\n",
    "\n",
    "Purchase_Frequency=df.groupby('Customer_ID')['Purchase_Amount'].count().reset_index()\n",
    "Purchase_Frequency=Purchase_Frequency.rename(columns={'Purchase_Amount':'Purchase_count'})\n",
    "print(\"Customer Purchase Frequency:\")\n",
    "print(Purchase_Frequency)"
   ]
  },
  {
   "cell_type": "code",
   "execution_count": 10,
   "id": "f474585d-87a6-404d-84b1-fea8c37f0f33",
   "metadata": {},
   "outputs": [
    {
     "name": "stdout",
     "output_type": "stream",
     "text": [
      "Top 3 Frequent Customers:\n",
      "   Customer_ID  Purchase_count\n",
      "0          101               3\n",
      "1          102               3\n",
      "2          103               2\n"
     ]
    }
   ],
   "source": [
    "#FINDING FREQUENT CUSTOMER\n",
    "\n",
    "frequent_value=Purchase_Frequency.sort_values(by='Purchase_count',ascending=False).head(3)\n",
    "print(\"Top 3 Frequent Customers:\") \n",
    "print(frequent_value)"
   ]
  },
  {
   "cell_type": "code",
   "execution_count": null,
   "id": "95f1ca8c",
   "metadata": {},
   "outputs": [],
   "source": [
    "#2. Find Students with the Highest Average Exam Scores\n",
    "import pandas as pd\n",
    "\n",
    "data = {'Student_ID': [201, 202, 203, 201, 204, 202, 201, 205, 202, 203],\n",
    "        'Exam_Score': [85, 90, 78, 88, 92, 87, 80, 95, 89, 84]}\n",
    "\n",
    "df = pd.DataFrame(data)\n",
    "\n",
    "Task:\n",
    "Calculate the average exam score per student.\n",
    "\n",
    "Display the top 3 students with the highest average scores.\n",
    "\n",
    "Expected Output:\n",
    "\n",
    "Average Exam Scores per Student:\n",
    "   Student_ID  Avg_Score\n",
    "0        201   84.33\n",
    "1        202   88.67\n",
    "2        203   81.00\n",
    "3        204   92.00\n",
    "4        205   95.00\n",
    "\n",
    "Top 3 Students:\n",
    "   Student_ID  Avg_Score\n",
    "0        205   95.00\n",
    "1        204   92.00\n",
    "2        202   88.67"
   ]
  },
  {
   "cell_type": "code",
   "execution_count": 10,
   "id": "eccbb39d-b21d-4e2b-9df7-4e54b1503c50",
   "metadata": {},
   "outputs": [
    {
     "data": {
      "text/html": [
       "<div>\n",
       "<style scoped>\n",
       "    .dataframe tbody tr th:only-of-type {\n",
       "        vertical-align: middle;\n",
       "    }\n",
       "\n",
       "    .dataframe tbody tr th {\n",
       "        vertical-align: top;\n",
       "    }\n",
       "\n",
       "    .dataframe thead th {\n",
       "        text-align: right;\n",
       "    }\n",
       "</style>\n",
       "<table border=\"1\" class=\"dataframe\">\n",
       "  <thead>\n",
       "    <tr style=\"text-align: right;\">\n",
       "      <th></th>\n",
       "      <th>Student_ID</th>\n",
       "      <th>Exam_Score</th>\n",
       "    </tr>\n",
       "  </thead>\n",
       "  <tbody>\n",
       "    <tr>\n",
       "      <th>0</th>\n",
       "      <td>201</td>\n",
       "      <td>85</td>\n",
       "    </tr>\n",
       "    <tr>\n",
       "      <th>1</th>\n",
       "      <td>202</td>\n",
       "      <td>90</td>\n",
       "    </tr>\n",
       "    <tr>\n",
       "      <th>2</th>\n",
       "      <td>203</td>\n",
       "      <td>78</td>\n",
       "    </tr>\n",
       "    <tr>\n",
       "      <th>3</th>\n",
       "      <td>201</td>\n",
       "      <td>88</td>\n",
       "    </tr>\n",
       "    <tr>\n",
       "      <th>4</th>\n",
       "      <td>204</td>\n",
       "      <td>92</td>\n",
       "    </tr>\n",
       "    <tr>\n",
       "      <th>5</th>\n",
       "      <td>202</td>\n",
       "      <td>87</td>\n",
       "    </tr>\n",
       "    <tr>\n",
       "      <th>6</th>\n",
       "      <td>201</td>\n",
       "      <td>80</td>\n",
       "    </tr>\n",
       "    <tr>\n",
       "      <th>7</th>\n",
       "      <td>205</td>\n",
       "      <td>95</td>\n",
       "    </tr>\n",
       "    <tr>\n",
       "      <th>8</th>\n",
       "      <td>202</td>\n",
       "      <td>89</td>\n",
       "    </tr>\n",
       "    <tr>\n",
       "      <th>9</th>\n",
       "      <td>203</td>\n",
       "      <td>84</td>\n",
       "    </tr>\n",
       "  </tbody>\n",
       "</table>\n",
       "</div>"
      ],
      "text/plain": [
       "   Student_ID  Exam_Score\n",
       "0         201          85\n",
       "1         202          90\n",
       "2         203          78\n",
       "3         201          88\n",
       "4         204          92\n",
       "5         202          87\n",
       "6         201          80\n",
       "7         205          95\n",
       "8         202          89\n",
       "9         203          84"
      ]
     },
     "execution_count": 10,
     "metadata": {},
     "output_type": "execute_result"
    }
   ],
   "source": [
    "#ANSWER\n",
    "import pandas as pd\n",
    "\n",
    "# Creating the DataFrame\n",
    "data = {'Student_ID': [201, 202, 203, 201, 204, 202, 201, 205, 202, 203],\n",
    "        'Exam_Score': [85, 90, 78, 88, 92, 87, 80, 95, 89, 84]}\n",
    "\n",
    "df = pd.DataFrame(data)\n",
    "df"
   ]
  },
  {
   "cell_type": "code",
   "execution_count": 17,
   "id": "97cbbdd1-e674-4fa2-96fb-b523c7c334a8",
   "metadata": {},
   "outputs": [
    {
     "name": "stdout",
     "output_type": "stream",
     "text": [
      "Average Exam Scores per Student\n",
      "   Student_ID  Avg_Score\n",
      "0         201      84.33\n",
      "1         202      88.67\n",
      "2         203      81.00\n",
      "3         204      92.00\n",
      "4         205      95.00\n"
     ]
    }
   ],
   "source": [
    "#FINDING AVERAGE EXAM SCORE PER STUDENT\n",
    "\n",
    "average_exam_score=df.groupby('Student_ID')['Exam_Score'].mean().reset_index()\n",
    "average_exam_score=average_exam_score.rename(columns={'Exam_Score':'Avg_Score'})\n",
    "#print(f\"Predicted Price for 2800 sqft:${result[0][0]:.0f}\")\n",
    "average_exam_score['Avg_Score']=average_exam_score['Avg_Score'].round(2)\n",
    "print(\"Average Exam Scores per Student\")\n",
    "print(average_exam_score)"
   ]
  },
  {
   "cell_type": "code",
   "execution_count": 18,
   "id": "577bf9d0-9405-4cf7-80b7-324302902ce5",
   "metadata": {},
   "outputs": [
    {
     "name": "stdout",
     "output_type": "stream",
     "text": [
      "Top 3 Students:\n",
      "   Student_ID  Avg_Score\n",
      "4         205      95.00\n",
      "3         204      92.00\n",
      "1         202      88.67\n"
     ]
    }
   ],
   "source": [
    "#FINDING HIGHEST AVERAGE\n",
    "\n",
    "highest_avg_value=average_exam_score.sort_values(by='Avg_Score',ascending=False).head(3)\n",
    "print(\"Top 3 Students:\") \n",
    "print(highest_avg_value)"
   ]
  },
  {
   "cell_type": "code",
   "execution_count": null,
   "id": "59d2c212",
   "metadata": {},
   "outputs": [],
   "source": [
    "3. Predict House Prices Using Linear Regression\n",
    "Dataset:'Exam_Score\n",
    "import pandas as pd\n",
    "'Exam_Score\n",
    "data = {'Size_sqft': [1500, 1800, 2400, 3000, 3500, 4000],\n",
    "        'Price': [300000, 350000, 450000, 550000, 650000, 700000]}\n",
    "\n",
    "df = pd.DataFrame(data)\n",
    "Task:\n",
    "Train a Linear Regression model to predict house prices based on Size_sqft.\n",
    "\n",
    "Predict the price of a house of size 2800 sqft.\n",
    "\n",
    "Expected Output:\n",
    "Predicted Price for 2800 sqft: $516491"
   ]
  },
  {
   "cell_type": "code",
   "execution_count": 17,
   "id": "5fdcb814-977c-4a58-ab8e-51238de68f3b",
   "metadata": {},
   "outputs": [
    {
     "data": {
      "text/plain": [
       "0.9692307692307692"
      ]
     },
     "execution_count": 17,
     "metadata": {},
     "output_type": "execute_result"
    }
   ],
   "source": [
    "#ANSWER FOR PRICE PREDICTION FOR HOUSE\n",
    "\n",
    "import pandas as pd\n",
    "import warnings \n",
    "from sklearn.model_selection import train_test_split\n",
    "from sklearn.linear_model import LinearRegression\n",
    "from sklearn.metrics import r2_score\n",
    "\n",
    "# Creating the DataFrame\n",
    "data = {'Size_sqft': [1500, 1800, 2400, 3000, 3500, 4000],\n",
    "        'Price': [300000, 350000, 450000, 550000, 650000, 700000]}\n",
    "df = pd.DataFrame(data)\n",
    "\n",
    "#Split input and output\n",
    "independent=df[['Size_sqft']]\n",
    "dependent=df[['Price']]\n",
    "\n",
    "#split training set,test set\n",
    "x_train,x_test,y_train,y_test=train_test_split(independent, dependent, test_size=0.30, random_state=0)\n",
    "\n",
    "#Create Model\n",
    "regressor=LinearRegression()\n",
    "regressor.fit(x_train,y_train)\n",
    "\n",
    "y_pred=regressor.predict(x_test)\n",
    "\n",
    "#Find Evaluation Matrices( r_score value)\n",
    "r_score=r2_score(y_test,y_pred)\n",
    "r_score\n"
   ]
  },
  {
   "cell_type": "code",
   "execution_count": 21,
   "id": "09a8acde-2371-4068-8383-2d25c3a43871",
   "metadata": {},
   "outputs": [
    {
     "name": "stdout",
     "output_type": "stream",
     "text": [
      "Predicted Price for 2800 sqft:$523077\n"
     ]
    }
   ],
   "source": [
    "import pickle\n",
    "import warnings\n",
    "warnings.filterwarnings(\"ignore\")\n",
    "\n",
    "#Give name to the file\n",
    "filename=\"finalized_model_linear.sav\"\n",
    "pickle.dump(regressor,open(filename,'wb'))\n",
    "\n",
    "#load the Model\n",
    "loaded_model=pickle.load(open(\"finalized_model_linear.sav\",'rb'))\n",
    "result = loaded_model.predict([[2800]])\n",
    "print(f\"Predicted Price for 2800 sqft:${result[0][0]:.0f}\")"
   ]
  },
  {
   "cell_type": "code",
   "execution_count": null,
   "id": "fe1e60a4",
   "metadata": {},
   "outputs": [],
   "source": [
    "4. Identify the Most Commonly Purchased Products\n",
    "dataset:\n",
    "import pandas as pd\n",
    "\n",
    "data = {'Product_ID': ['P101', 'P102', 'P103', 'P101', 'P104', 'P102', 'P101', 'P105', 'P102', 'P103'],\n",
    "        'Purchase_Count': [5, 3, 4, 2, 1, 6, 7, 3, 2, 5]}\n",
    "\n",
    "df = pd.DataFrame(data)\n",
    "Task:\n",
    "Group products by Product_ID and sum their Purchase_Count.\n",
    "\n",
    "Identify the top 3 most purchased products.\n",
    "\n",
    "Expected Output:\n",
    "\n",
    "Product Purchase Counts:\n",
    "   Product_ID  Total_Purchases\n",
    "0       P101               14\n",
    "1       P102               11\n",
    "2       P103                9\n",
    "3       P104                1\n",
    "4       P105                3\n",
    "\n",
    "Top 3 Purchased Products:\n",
    "   Product_ID  Total_Purchases\n",
    "0       P101               14\n",
    "1       P102               11\n",
    "2       P103                9\n"
   ]
  },
  {
   "cell_type": "code",
   "execution_count": 1,
   "id": "31f7afd0-eddd-4759-98b2-8e4425a03747",
   "metadata": {},
   "outputs": [
    {
     "data": {
      "text/html": [
       "<div>\n",
       "<style scoped>\n",
       "    .dataframe tbody tr th:only-of-type {\n",
       "        vertical-align: middle;\n",
       "    }\n",
       "\n",
       "    .dataframe tbody tr th {\n",
       "        vertical-align: top;\n",
       "    }\n",
       "\n",
       "    .dataframe thead th {\n",
       "        text-align: right;\n",
       "    }\n",
       "</style>\n",
       "<table border=\"1\" class=\"dataframe\">\n",
       "  <thead>\n",
       "    <tr style=\"text-align: right;\">\n",
       "      <th></th>\n",
       "      <th>Product_ID</th>\n",
       "      <th>Purchase_Count</th>\n",
       "    </tr>\n",
       "  </thead>\n",
       "  <tbody>\n",
       "    <tr>\n",
       "      <th>0</th>\n",
       "      <td>P101</td>\n",
       "      <td>5</td>\n",
       "    </tr>\n",
       "    <tr>\n",
       "      <th>1</th>\n",
       "      <td>P102</td>\n",
       "      <td>3</td>\n",
       "    </tr>\n",
       "    <tr>\n",
       "      <th>2</th>\n",
       "      <td>P103</td>\n",
       "      <td>4</td>\n",
       "    </tr>\n",
       "    <tr>\n",
       "      <th>3</th>\n",
       "      <td>P101</td>\n",
       "      <td>2</td>\n",
       "    </tr>\n",
       "    <tr>\n",
       "      <th>4</th>\n",
       "      <td>P104</td>\n",
       "      <td>1</td>\n",
       "    </tr>\n",
       "    <tr>\n",
       "      <th>5</th>\n",
       "      <td>P102</td>\n",
       "      <td>6</td>\n",
       "    </tr>\n",
       "    <tr>\n",
       "      <th>6</th>\n",
       "      <td>P101</td>\n",
       "      <td>7</td>\n",
       "    </tr>\n",
       "    <tr>\n",
       "      <th>7</th>\n",
       "      <td>P105</td>\n",
       "      <td>3</td>\n",
       "    </tr>\n",
       "    <tr>\n",
       "      <th>8</th>\n",
       "      <td>P102</td>\n",
       "      <td>2</td>\n",
       "    </tr>\n",
       "    <tr>\n",
       "      <th>9</th>\n",
       "      <td>P103</td>\n",
       "      <td>5</td>\n",
       "    </tr>\n",
       "  </tbody>\n",
       "</table>\n",
       "</div>"
      ],
      "text/plain": [
       "  Product_ID  Purchase_Count\n",
       "0       P101               5\n",
       "1       P102               3\n",
       "2       P103               4\n",
       "3       P101               2\n",
       "4       P104               1\n",
       "5       P102               6\n",
       "6       P101               7\n",
       "7       P105               3\n",
       "8       P102               2\n",
       "9       P103               5"
      ]
     },
     "execution_count": 1,
     "metadata": {},
     "output_type": "execute_result"
    }
   ],
   "source": [
    "#ANSWER\n",
    "import pandas as pd\n",
    "\n",
    "# Creating the DataFrame\n",
    "data = {'Product_ID': ['P101', 'P102', 'P103', 'P101', 'P104', 'P102', 'P101', 'P105', 'P102', 'P103'],\n",
    "        'Purchase_Count': [5, 3, 4, 2, 1, 6, 7, 3, 2, 5]}\n",
    "\n",
    "df = pd.DataFrame(data)\n",
    "df"
   ]
  },
  {
   "cell_type": "code",
   "execution_count": 4,
   "id": "42c0c97c-69b8-4adf-ac43-e978aa260fa7",
   "metadata": {},
   "outputs": [
    {
     "name": "stdout",
     "output_type": "stream",
     "text": [
      "product Purchase counts:\n",
      "  Product_ID  Total_Purchases\n",
      "0       P101               14\n",
      "1       P102               11\n",
      "2       P103                9\n",
      "3       P104                1\n",
      "4       P105                3\n"
     ]
    }
   ],
   "source": [
    "#FINDING PURCHASE COUNTS\n",
    "\n",
    "purchase_count=df.groupby('Product_ID')['Purchase_Count'].sum().reset_index()\n",
    "purchase_count=purchase_count.rename(columns={'Purchase_Count':'Total_Purchases'})\n",
    "print(\"product Purchase counts:\")\n",
    "print(purchase_count)"
   ]
  },
  {
   "cell_type": "code",
   "execution_count": 5,
   "id": "4d0f5d40-c316-493f-baf1-2ce83ffdcaf6",
   "metadata": {},
   "outputs": [
    {
     "name": "stdout",
     "output_type": "stream",
     "text": [
      "Top 3 Purchased Products::\n",
      "  Product_ID  Total_Purchases\n",
      "0       P101               14\n",
      "1       P102               11\n",
      "2       P103                9\n"
     ]
    }
   ],
   "source": [
    "#FINDING FREQUENT CUSTOMER\n",
    "\n",
    "frequent_value=purchase_count.sort_values(by='Total_Purchases',ascending=False).head(3)\n",
    "print(\"Top 3 Purchased Products::\") \n",
    "print(frequent_value)"
   ]
  },
  {
   "cell_type": "code",
   "execution_count": null,
   "id": "71d4ea54",
   "metadata": {},
   "outputs": [],
   "source": [
    "5. Cluster Customers Based on Their Purchase Amounts\n",
    "Dataset:\n",
    "import pandas as pd\n",
    "\n",
    "data = {'Customer_ID': [1, 2, 3, 4, 5, 6, 7, 8, 9, 10],\n",
    "        'Total_Spend': [500, 1500, 2000, 2500, 3000, 3500, 4000, 1000, 1200, 2700]}\n",
    "\n",
    "df = pd.DataFrame(data)\n",
    "\n",
    "Task:\n",
    "Apply K-Means Clustering to segment customers into 3 clusters.\n",
    "\n",
    "Print the cluster labels for each customer.\n",
    "\n",
    "Expected Output:\n",
    "Customer Clusters:\n",
    "   Customer_ID  Total_Spend  Cluster_Label\n",
    "0            1          500              1\n",
    "1            2         1500              1\n",
    "2            3         2000              2\n",
    "3            4         2500              2\n",
    "4            5         3000              2\n",
    "5            6         3500              0\n",
    "6            7         4000              0\n",
    "7            8         1000              1\n",
    "8            9         1200              1\n",
    "9           10         2700              2"
   ]
  },
  {
   "cell_type": "code",
   "execution_count": 9,
   "id": "69f7a29d",
   "metadata": {},
   "outputs": [
    {
     "name": "stdout",
     "output_type": "stream",
     "text": [
      "Customer Clusters:\n",
      "   Customer_ID  Total_Spend  Cluster_Label\n",
      "0            1          500              0\n",
      "1            2         1500              0\n",
      "2            3         2000              2\n",
      "3            4         2500              2\n",
      "4            5         3000              2\n",
      "5            6         3500              1\n",
      "6            7         4000              1\n",
      "7            8         1000              0\n",
      "8            9         1200              0\n",
      "9           10         2700              2\n"
     ]
    }
   ],
   "source": [
    "#ANSWER\n",
    "\n",
    "import pandas as pd\n",
    "from sklearn.cluster import KMeans\n",
    "import warnings\n",
    "warnings.filterwarnings(\"ignore\")\n",
    "\n",
    "# Creating the DataFrame\n",
    "data = {'Customer_ID': [1, 2, 3, 4, 5, 6, 7, 8, 9, 10],\n",
    "        'Total_Spend': [500, 1500, 2000, 2500, 3000, 3500, 4000, 1000, 1200, 2700]}\n",
    "\n",
    "df = pd.DataFrame(data)\n",
    "\n",
    "# Applying K-Means Clustering\n",
    "kmeans = KMeans(n_clusters=3, random_state=42, n_init=10)\n",
    "df['Cluster_Label'] = kmeans.fit_predict(df[['Total_Spend']])\n",
    "\n",
    "print(\"Customer Clusters:\")\n",
    "print(df)\n"
   ]
  },
  {
   "cell_type": "code",
   "execution_count": null,
   "id": "ed70b357",
   "metadata": {},
   "outputs": [],
   "source": [
    "\n"
   ]
  },
  {
   "cell_type": "code",
   "execution_count": null,
   "id": "a4f73179",
   "metadata": {},
   "outputs": [],
   "source": []
  },
  {
   "cell_type": "code",
   "execution_count": null,
   "id": "bf02fcd6",
   "metadata": {},
   "outputs": [],
   "source": []
  }
 ],
 "metadata": {
  "kernelspec": {
   "display_name": "Python 3 (ipykernel)",
   "language": "python",
   "name": "python3"
  },
  "language_info": {
   "codemirror_mode": {
    "name": "ipython",
    "version": 3
   },
   "file_extension": ".py",
   "mimetype": "text/x-python",
   "name": "python",
   "nbconvert_exporter": "python",
   "pygments_lexer": "ipython3",
   "version": "3.12.4"
  }
 },
 "nbformat": 4,
 "nbformat_minor": 5
}
