{
 "cells": [
  {
   "cell_type": "code",
   "execution_count": 10,
   "id": "aba1475d",
   "metadata": {},
   "outputs": [],
   "source": [
    "#1.Write a Python program to find the reverse of a string. Expected Output (for input \"hello\"):\n",
    "#olleh\n"
   ]
  },
  {
   "cell_type": "code",
   "execution_count": 2,
   "id": "338dfa1a-5685-4b2a-a498-0acae8003b1c",
   "metadata": {},
   "outputs": [
    {
     "name": "stdout",
     "output_type": "stream",
     "text": [
      "olleh\n"
     ]
    }
   ],
   "source": [
    "x=\"hello\"\n",
    "rev=x[::-1]\n",
    "print(rev)"
   ]
  },
  {
   "cell_type": "code",
   "execution_count": null,
   "id": "5b1ec143",
   "metadata": {},
   "outputs": [],
   "source": [
    "2.Write a Python program to generate the Fibonacci sequence up to 10 terms.\n",
    "Expected Output:\n",
    "0 1 1 2 3 5 8 13 21 34"
   ]
  },
  {
   "cell_type": "code",
   "execution_count": 11,
   "id": "c1e98a62-c6cb-4b49-9a21-4536b8941a97",
   "metadata": {},
   "outputs": [
    {
     "data": {
      "text/plain": [
       "[0, 1, 1, 2, 3, 5, 8, 13, 21, 34]"
      ]
     },
     "execution_count": 11,
     "metadata": {},
     "output_type": "execute_result"
    }
   ],
   "source": [
    "def fibonacci(n):\n",
    "    sequence = [0, 1]\n",
    "    for i in range(2, n):\n",
    "        sequence.append(sequence[-1] + sequence[-2])\n",
    "    return sequence\n",
    "fibonacci(10)    "
   ]
  },
  {
   "cell_type": "code",
   "execution_count": null,
   "id": "c656f04a",
   "metadata": {},
   "outputs": [],
   "source": [
    "3.Write a Python function to check if a given string is a palindrome.\n",
    "Expected Output (for input \"madam\"):\n",
    "madam is a palindrome"
   ]
  },
  {
   "cell_type": "code",
   "execution_count": 8,
   "id": "991cfe80-cf83-4eb1-bcf3-00c3af2cdd04",
   "metadata": {},
   "outputs": [
    {
     "name": "stdout",
     "output_type": "stream",
     "text": [
      "madam\n",
      "The Given word is polindrom\n"
     ]
    }
   ],
   "source": [
    "x=\"madam\"\n",
    "rev=x[::-1]\n",
    "print(rev)\n",
    "if (x==rev):\n",
    "    print(\"The Given word is polindrom\")\n",
    "else:\n",
    "    print(\"The Given word is not polindrom\")"
   ]
  },
  {
   "cell_type": "code",
   "execution_count": 7,
   "id": "cd7b0a78",
   "metadata": {},
   "outputs": [
    {
     "name": "stdout",
     "output_type": "stream",
     "text": [
      "e\n",
      "1\n",
      "u\n",
      "2\n",
      "a\n",
      "3\n",
      "i\n",
      "4\n",
      "o\n",
      "5\n"
     ]
    }
   ],
   "source": [
    "#4.Write a Python program to count the number of vowels in a given string. \n",
    "#Expected Output (for input \"education\"):\n",
    "\n",
    "#Number of vowels: 5\n",
    "import numpy as np \n",
    "x=\"aeiouAEIOU\"\n",
    "txt=\"education\"\n",
    "count=0\n",
    "for ch in txt:\n",
    "  if ch in x:\n",
    "      print(ch)\n",
    "      count=count+1\n",
    "      print(count)  \n"
   ]
  },
  {
   "cell_type": "code",
   "execution_count": null,
   "id": "bdbb9b19",
   "metadata": {},
   "outputs": [],
   "source": [
    "5.Write a Python program to remove duplicates from a list.\n",
    "Expected Output (for input [1, 2, 2, 3, 4, 4, 5]):\n",
    "\n",
    " [1, 2, 3, 4, 5]\n"
   ]
  },
  {
   "cell_type": "code",
   "execution_count": 9,
   "id": "8cf05b1e-fca1-4ec5-90ba-fbe62d798158",
   "metadata": {},
   "outputs": [
    {
     "name": "stdout",
     "output_type": "stream",
     "text": [
      "{1, 2, 3, 4, 5}\n"
     ]
    }
   ],
   "source": [
    "num=[1, 2, 2, 3, 4, 4, 5]\n",
    "remove_dupli=set(num)\n",
    "print(remove_dupli)"
   ]
  },
  {
   "cell_type": "code",
   "execution_count": null,
   "id": "39024728-d1cd-4542-8bf1-4120a8a0a397",
   "metadata": {},
   "outputs": [],
   "source": []
  }
 ],
 "metadata": {
  "kernelspec": {
   "display_name": "Python 3 (ipykernel)",
   "language": "python",
   "name": "python3"
  },
  "language_info": {
   "codemirror_mode": {
    "name": "ipython",
    "version": 3
   },
   "file_extension": ".py",
   "mimetype": "text/x-python",
   "name": "python",
   "nbconvert_exporter": "python",
   "pygments_lexer": "ipython3",
   "version": "3.12.4"
  }
 },
 "nbformat": 4,
 "nbformat_minor": 5
}
