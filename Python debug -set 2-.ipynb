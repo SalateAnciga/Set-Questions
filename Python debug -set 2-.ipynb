{
 "cells": [
  {
   "cell_type": "code",
   "execution_count": null,
   "id": "aa1f9777-9d8b-404a-b285-fd351a72c72c",
   "metadata": {},
   "outputs": [],
   "source": [
    "#1.Find the error in the following Python code:\n",
    "import math\n",
    "print(Math.sqrt(16))"
   ]
  },
  {
   "cell_type": "code",
   "execution_count": 1,
   "id": "90e9fa4e",
   "metadata": {},
   "outputs": [
    {
     "name": "stdout",
     "output_type": "stream",
     "text": [
      "4.0\n"
     ]
    }
   ],
   "source": [
    "import math\n",
    "print(math.sqrt(16))\n",
    "#Ans:Put small letter in builtin function"
   ]
  },
  {
   "cell_type": "code",
   "execution_count": null,
   "id": "a10430cc-1039-4ced-be58-631613f49582",
   "metadata": {},
   "outputs": [],
   "source": [
    "#2.Find the error in the following Python code:\n",
    "def my_function():\n",
    "    x += 5\n",
    "    print(x)\n",
    "\n",
    "x = 10\n",
    "my_function()\n"
   ]
  },
  {
   "cell_type": "code",
   "execution_count": 11,
   "id": "55520fd2",
   "metadata": {},
   "outputs": [],
   "source": [
    "def my_function():\n",
    "    x += 5\n",
    "    print(x)\n",
    "    x = 10\n",
    "    return(x)\n",
    "    my_function()\n",
    "\n",
    "#Ans:UnboundLocalError: cannot access local variable 'x' where it is not associated with a value\n"
   ]
  },
  {
   "cell_type": "code",
   "execution_count": null,
   "id": "481863f5-d84e-4256-a975-a084ac5267f5",
   "metadata": {},
   "outputs": [],
   "source": [
    "#3.\n",
    "x = 5\n",
    "if x = 10:\n",
    "    print(\"x is 10\")\n"
   ]
  },
  {
   "cell_type": "code",
   "execution_count": 14,
   "id": "f23899ca",
   "metadata": {},
   "outputs": [],
   "source": [
    "x = 5\n",
    "if x == 10:\n",
    " print(\"x is 10\")\n",
    "#Ans:put comparision operator"
   ]
  },
  {
   "cell_type": "code",
   "execution_count": null,
   "id": "21bab137-1dc2-4b54-8738-f485c1ad9b8f",
   "metadata": {},
   "outputs": [],
   "source": [
    "#4.\n",
    "numbers = [5, 3, 8, 2]\n",
    "print(numbers.sort())\n"
   ]
  },
  {
   "cell_type": "code",
   "execution_count": 19,
   "id": "c644c2f2",
   "metadata": {},
   "outputs": [
    {
     "name": "stdout",
     "output_type": "stream",
     "text": [
      "[2 3 5 8]\n"
     ]
    }
   ],
   "source": [
    "import numpy as np\n",
    "numbers = [5, 3, 8, 2]\n",
    "x=np.sort(numbers)\n",
    "print(x)\n",
    "#Ans:Import proper header file"
   ]
  },
  {
   "cell_type": "code",
   "execution_count": null,
   "id": "7654ecd1-ca63-4f9b-aa9c-9538a5e3ef04",
   "metadata": {},
   "outputs": [],
   "source": [
    "#5.\n",
    "def square(n):\n",
    "    n * n\n",
    "\n",
    "print(square(4))\n"
   ]
  },
  {
   "cell_type": "code",
   "execution_count": 23,
   "id": "c6bc9bfb",
   "metadata": {},
   "outputs": [
    {
     "data": {
      "text/plain": [
       "16"
      ]
     },
     "execution_count": 23,
     "metadata": {},
     "output_type": "execute_result"
    }
   ],
   "source": [
    "#5.\n",
    "def square(n):\n",
    "  x= n * n\n",
    "  return(x)  \n",
    "square(4)\n"
   ]
  },
  {
   "cell_type": "code",
   "execution_count": null,
   "id": "883dbddd-f5c6-4867-ad0b-142f42684e24",
   "metadata": {},
   "outputs": [],
   "source": [
    "#6.\n",
    "my_tuple = (1, 2, 3)\n",
    "my_tuple[1] = 5\n"
   ]
  },
  {
   "cell_type": "code",
   "execution_count": 26,
   "id": "3a9dbcc0",
   "metadata": {},
   "outputs": [],
   "source": [
    "#6.\n",
    "my_tuple =[1, 2, 3]\n",
    "my_tuple[1] = 5\n",
    "#Ans:When we use list put square bracket"
   ]
  },
  {
   "cell_type": "code",
   "execution_count": null,
   "id": "6a76f245-cbd2-4f32-bd30-911d50b85dcf",
   "metadata": {},
   "outputs": [],
   "source": [
    "#7.\n",
    "name = \"Alice\"\n",
    "age = 25\n",
    "print(\"My name is %s and I am %d years old\" % (name))\n"
   ]
  },
  {
   "cell_type": "code",
   "execution_count": 4,
   "id": "4a72685b",
   "metadata": {},
   "outputs": [
    {
     "name": "stdout",
     "output_type": "stream",
     "text": [
      "My name is Alice and I am 25 years old\n"
     ]
    }
   ],
   "source": [
    "#7.\n",
    "name = \"Alice\"\n",
    "age = 25\n",
    "print(\"My name is %s\" %name, \"and I am %d years old\" %age )\n",
    " "
   ]
  },
  {
   "cell_type": "code",
   "execution_count": null,
   "id": "efd34d3b-349f-46da-89f6-163df73b1161",
   "metadata": {},
   "outputs": [],
   "source": [
    "#8.\n",
    "a = [1, 2, 3]\n",
    "b = [1, 2, 3]\n",
    "if a is b:\n",
    "    print(\"Lists are equal\")\n"
   ]
  },
  {
   "cell_type": "code",
   "execution_count": 30,
   "id": "3de969fe",
   "metadata": {},
   "outputs": [
    {
     "name": "stdout",
     "output_type": "stream",
     "text": [
      "Lists are equal\n"
     ]
    }
   ],
   "source": [
    "#8.\n",
    "a = [1, 2, 3]\n",
    "b = [1, 2, 3]\n",
    "if a == b:\n",
    "    print(\"Lists are equal\")\n",
    "    \n",
    "#Ans:Put proper syntax in if condition"
   ]
  },
  {
   "cell_type": "code",
   "execution_count": null,
   "id": "59186809-3cee-438c-9482-e14eff4f9a14",
   "metadata": {},
   "outputs": [],
   "source": [
    "#9.\n",
    "for i in range(5, 1):\n",
    "    print(i)"
   ]
  },
  {
   "cell_type": "code",
   "execution_count": 7,
   "id": "dbe38465",
   "metadata": {},
   "outputs": [],
   "source": [
    "#9.\n",
    "for i in range(5, 1):\n",
    "    print(i)\n",
    "#Ans:In range fun 5 is start value,1 is stop valu but default incerment value is 1.Moreover,when we executing for loop it automaticaally incerment by 1 so the \n",
    "#     values starting from 5,6,7 .Put -1 the output is 5,4,3,2"
   ]
  },
  {
   "cell_type": "code",
   "execution_count": 11,
   "id": "2b35b480-8c03-42cd-b7ec-d106f690c1db",
   "metadata": {},
   "outputs": [
    {
     "name": "stdout",
     "output_type": "stream",
     "text": [
      "5\n",
      "4\n",
      "3\n",
      "2\n"
     ]
    }
   ],
   "source": [
    "for i in range(5, 1,-1):\n",
    "    print(i)"
   ]
  },
  {
   "cell_type": "code",
   "execution_count": null,
   "id": "ebe07bc8-9fc0-49cf-898e-63ae50d3fa5a",
   "metadata": {},
   "outputs": [],
   "source": [
    "#10.\n",
    "student = {\"name\": \"John\", \"age\": 20}\n",
    "print(student[name])\n"
   ]
  },
  {
   "cell_type": "code",
   "execution_count": 2,
   "id": "30cb0523",
   "metadata": {},
   "outputs": [
    {
     "name": "stdout",
     "output_type": "stream",
     "text": [
      "John\n"
     ]
    }
   ],
   "source": [
    "#10.\n",
    "student = {\"name\": \"John\", \"age\": 20}\n",
    "print(student[\"name\"])\n",
    "#Ans:Put double quoats "
   ]
  },
  {
   "cell_type": "code",
   "execution_count": null,
   "id": "3ca5a421-9b18-4b66-82e0-ec99b2917ac0",
   "metadata": {},
   "outputs": [],
   "source": []
  }
 ],
 "metadata": {
  "kernelspec": {
   "display_name": "Python 3 (ipykernel)",
   "language": "python",
   "name": "python3"
  },
  "language_info": {
   "codemirror_mode": {
    "name": "ipython",
    "version": 3
   },
   "file_extension": ".py",
   "mimetype": "text/x-python",
   "name": "python",
   "nbconvert_exporter": "python",
   "pygments_lexer": "ipython3",
   "version": "3.12.4"
  }
 },
 "nbformat": 4,
 "nbformat_minor": 5
}
